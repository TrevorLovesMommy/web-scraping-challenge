{
 "cells": [
  {
   "cell_type": "code",
   "execution_count": 21,
   "metadata": {},
   "outputs": [],
   "source": [
    "from splinter import Browser\n",
    "from bs4 import BeautifulSoup\n",
    "import pymongo\n",
    "import pandas as pd\n",
    "import time\n",
    "from pprint import pprint"
   ]
  },
  {
   "cell_type": "code",
   "execution_count": 2,
   "metadata": {},
   "outputs": [],
   "source": [
    "executable_path = {'executable_path': 'chromedriver.exe'}\n",
    "browser = Browser('chrome', **executable_path, headless=False)"
   ]
  },
  {
   "cell_type": "markdown",
   "metadata": {},
   "source": [
    "## Scrape NASA Mars News Site "
   ]
  },
  {
   "cell_type": "code",
   "execution_count": 3,
   "metadata": {},
   "outputs": [],
   "source": [
    "#set URL\n",
    "url = 'https://mars.nasa.gov/news/?page=0&per_page=40&order=publish_date+desc%2Ccreated_at+desc&search=&category=19%2C165%2C184%2C204&blank_scope=Latest'\n",
    "browser.visit(url)"
   ]
  },
  {
   "cell_type": "code",
   "execution_count": 5,
   "metadata": {},
   "outputs": [
    {
     "name": "stdout",
     "output_type": "stream",
     "text": [
      "Mars InSight Lander to Push on Top of the 'Mole'\n",
      "Engineers have a plan for pushing down on the heat probe, which has been stuck at the Martian surface for a year.\n"
     ]
    }
   ],
   "source": [
    "#scrape html with beautiful soup\n",
    "html = browser.html\n",
    "soup = BeautifulSoup(html, 'lxml')\n",
    "\n",
    "nasa_title = soup.find('div', class_='content_title').text\n",
    "\n",
    "#set 10 sec delay to finish scraping above content\n",
    "time.sleep(10)\n",
    "\n",
    "nasa_paragraph = soup.find('div', class_='article_teaser_body').text\n",
    "\n",
    "print(nasa_title)\n",
    "print(nasa_paragraph)"
   ]
  },
  {
   "cell_type": "markdown",
   "metadata": {},
   "source": [
    "## Scrape JPL Mars site"
   ]
  },
  {
   "cell_type": "code",
   "execution_count": 6,
   "metadata": {},
   "outputs": [],
   "source": [
    "#set url of site\n",
    "url = 'https://www.jpl.nasa.gov/spaceimages/?search=&category=Mars'\n",
    "browser.visit(url)"
   ]
  },
  {
   "cell_type": "code",
   "execution_count": 7,
   "metadata": {},
   "outputs": [
    {
     "name": "stderr",
     "output_type": "stream",
     "text": [
      "C:\\Users\\melis\\Anaconda3\\envs\\PythonData\\lib\\site-packages\\splinter\\driver\\webdriver\\__init__.py:528: FutureWarning: browser.find_link_by_partial_text is deprecated. Use browser.links.find_by_partial_text instead.\n",
      "  FutureWarning,\n"
     ]
    }
   ],
   "source": [
    "#click on full image button\n",
    "#browser.links.find_by_partial_text('FULL')\n",
    "browser.click_link_by_partial_text('FULL')"
   ]
  },
  {
   "cell_type": "code",
   "execution_count": 8,
   "metadata": {},
   "outputs": [],
   "source": [
    "#click on \"more info\" button on next page\n",
    "#set 10 sec delay to allow time for clikcing on the FULL button above\n",
    "time.sleep(10)\n",
    "browser.click_link_by_partial_text('more info')\n",
    "time.sleep(10)"
   ]
  },
  {
   "cell_type": "code",
   "execution_count": 9,
   "metadata": {},
   "outputs": [
    {
     "name": "stdout",
     "output_type": "stream",
     "text": [
      "<figure class=\"lede\">\n",
      "<a href=\"/spaceimages/images/largesize/PIA16842_hires.jpg\"><img alt=\"This artist's concept illustrates how charged water particles flow into the Saturnian atmosphere from the planet's rings, causing a reduction in atmospheric brightness.\" class=\"main_image\" src=\"/spaceimages/images/largesize/PIA16842_hires.jpg\" title=\"This artist's concept illustrates how charged water particles flow into the Saturnian atmosphere from the planet's rings, causing a reduction in atmospheric brightness.\"/></a>\n",
      "</figure>\n",
      "https://www.jpl.nasa.gov/spaceimages/images/largesize/PIA16842_hires.jpg\n"
     ]
    }
   ],
   "source": [
    "#scrape image data information with beautiful soup and store in featured_image_url\n",
    "html = browser.html\n",
    "soup = BeautifulSoup(html, 'lxml')\n",
    "\n",
    "result = soup.find('figure')  \n",
    "print(result)\n",
    "result = soup.find('figure').find('img')['src'] \n",
    "featured_image_url = f'https://www.jpl.nasa.gov{result}'\n",
    "print(featured_image_url)"
   ]
  },
  {
   "cell_type": "markdown",
   "metadata": {},
   "source": [
    "## Mars Weather"
   ]
  },
  {
   "cell_type": "code",
   "execution_count": 10,
   "metadata": {},
   "outputs": [],
   "source": [
    "#set twitter url\n",
    "url = 'https://twitter.com/marswxreport?lang=en'\n",
    "browser.visit(url)"
   ]
  },
  {
   "cell_type": "code",
   "execution_count": 11,
   "metadata": {},
   "outputs": [
    {
     "name": "stdout",
     "output_type": "stream",
     "text": [
      "InSight sol 440 (2020-02-21) low -95.2ºC (-139.3ºF) high -13.0ºC (8.6ºF)\n",
      "winds from the W at 6.0 m/s (13.4 mph) gusting to 23.7 m/s (52.9 mph)\n",
      "pressure at 6.30 hPa\n"
     ]
    }
   ],
   "source": [
    "time.sleep(10)\n",
    "html = browser.html\n",
    "soup = BeautifulSoup(html, 'lxml')\n",
    "#set delay so page can load before scraping\n",
    "time.sleep(20)\n",
    "tw_weather = soup.find('div', class_=\"css-901oao r-hkyrab r-1qd0xha r-a023e6 r-16dba41 r-ad9z0x r-bcqeeo r-bnwqim r-qvutc0\").find('span').text\n",
    "print(tw_weather)\n"
   ]
  },
  {
   "cell_type": "markdown",
   "metadata": {},
   "source": [
    "## Mars Facts"
   ]
  },
  {
   "cell_type": "code",
   "execution_count": 17,
   "metadata": {},
   "outputs": [
    {
     "name": "stdout",
     "output_type": "stream",
     "text": [
      "                      0                              1\n",
      "0  Equatorial Diameter:                       6,792 km\n",
      "1       Polar Diameter:                       6,752 km\n",
      "2                 Mass:  6.39 × 10^23 kg (0.11 Earths)\n",
      "3                Moons:            2 (Phobos & Deimos)\n",
      "4       Orbit Distance:       227,943,824 km (1.38 AU)\n",
      "5         Orbit Period:           687 days (1.9 years)\n",
      "6  Surface Temperature:                   -87 to -5 °C\n",
      "7         First Record:              2nd millennium BC\n",
      "8          Recorded By:           Egyptian astronomers\n",
      "<table border=\"1\" class=\"dataframe\">\n",
      "  <thead>\n",
      "    <tr style=\"text-align: right;\">\n",
      "      <th></th>\n",
      "      <th>0</th>\n",
      "      <th>1</th>\n",
      "    </tr>\n",
      "  </thead>\n",
      "  <tbody>\n",
      "    <tr>\n",
      "      <th>0</th>\n",
      "      <td>Equatorial Diameter:</td>\n",
      "      <td>6,792 km</td>\n",
      "    </tr>\n",
      "    <tr>\n",
      "      <th>1</th>\n",
      "      <td>Polar Diameter:</td>\n",
      "      <td>6,752 km</td>\n",
      "    </tr>\n",
      "    <tr>\n",
      "      <th>2</th>\n",
      "      <td>Mass:</td>\n",
      "      <td>6.39 × 10^23 kg (0.11 Earths)</td>\n",
      "    </tr>\n",
      "    <tr>\n",
      "      <th>3</th>\n",
      "      <td>Moons:</td>\n",
      "      <td>2 (Phobos &amp; Deimos)</td>\n",
      "    </tr>\n",
      "    <tr>\n",
      "      <th>4</th>\n",
      "      <td>Orbit Distance:</td>\n",
      "      <td>227,943,824 km (1.38 AU)</td>\n",
      "    </tr>\n",
      "    <tr>\n",
      "      <th>5</th>\n",
      "      <td>Orbit Period:</td>\n",
      "      <td>687 days (1.9 years)</td>\n",
      "    </tr>\n",
      "    <tr>\n",
      "      <th>6</th>\n",
      "      <td>Surface Temperature:</td>\n",
      "      <td>-87 to -5 °C</td>\n",
      "    </tr>\n",
      "    <tr>\n",
      "      <th>7</th>\n",
      "      <td>First Record:</td>\n",
      "      <td>2nd millennium BC</td>\n",
      "    </tr>\n",
      "    <tr>\n",
      "      <th>8</th>\n",
      "      <td>Recorded By:</td>\n",
      "      <td>Egyptian astronomers</td>\n",
      "    </tr>\n",
      "  </tbody>\n",
      "</table>\n"
     ]
    }
   ],
   "source": [
    "#scrape table and convert into html string\n",
    "#set url of site\n",
    "space_fact_url = 'https://space-facts.com/mars/'\n",
    "\n",
    "time.sleep(10)\n",
    "\n",
    "#read html tables with pandas\n",
    "tables = pd.read_html(space_fact_url)\n",
    "print(tables[0])\n",
    "\n",
    "facts_table=tables[0].to_html()\n",
    "print(facts_table)"
   ]
  },
  {
   "cell_type": "markdown",
   "metadata": {},
   "source": [
    "## Mars Hemispheres"
   ]
  },
  {
   "cell_type": "code",
   "execution_count": null,
   "metadata": {},
   "outputs": [],
   "source": [
    "hemisphere_image_urls=[\n",
    "    {\"title\":\"Cerberus Hemisphere\", \"img_url\":\"https://astrogeology.usgs.gov/cache/images/cfa62af2557222a02478f1fcd781d445_cerberus_enhanced.tif_full.jpg\"},\n",
    "    {\"title\":\"Schiaparelli Hemisphere\", \"img_url\":\"https://astrogeology.usgs.gov/cache/images/3cdd1cbf5e0813bba925c9030d13b62e_schiaparelli_enhanced.tif_full.jpg\"},\n",
    "    {\"title\":\"Syrtis Major Hemisphere\", \"img_url\":\"https://astrogeology.usgs.gov/cache/images/ae209b4e408bb6c3e67b6af38168cf28_syrtis_major_enhanced.tif_full.jpg\"},\n",
    "    {\"title\":\"Valles Marineris Hemisphere\", \"img_url\":\"https://astrogeology.usgs.gov/cache/images/7cf2da4bf549ed01c17f206327be4db7_valles_marineris_enhanced.tif_full.jpg\"}\n",
    "]\n"
   ]
  },
  {
   "cell_type": "markdown",
   "metadata": {},
   "source": [
    "## Create function to initialize browser for scraping"
   ]
  },
  {
   "cell_type": "code",
   "execution_count": null,
   "metadata": {},
   "outputs": [],
   "source": [
    "def init_browser():\n",
    "    executable_path = {'executable_path': 'chromedriver.exe'}\n",
    "    return browser = Browser('chrome', **executable_path, headless=False)\n"
   ]
  },
  {
   "cell_type": "markdown",
   "metadata": {},
   "source": [
    "## Create function to scrape all websites"
   ]
  },
  {
   "cell_type": "code",
   "execution_count": 33,
   "metadata": {},
   "outputs": [],
   "source": [
    "def scrape():\n",
    "    \n",
    "    #Scrape 4 sites and aggregate all data into one dictionary\n",
    "    \n",
    "    #declare dictionary to append to:\n",
    "    master_dictionary={}\n",
    "    \n",
    "    #------------scrape nasa mars news site ------------------\n",
    "    \n",
    "    #set URL\n",
    "    url = 'https://mars.nasa.gov/news/?page=0&per_page=40&order=publish_date+desc%2Ccreated_at+desc&search=&category=19%2C165%2C184%2C204&blank_scope=Latest'\n",
    "    browser.visit(url)\n",
    "    \n",
    "    #scrape html with beautiful soup\n",
    "    html = browser.html\n",
    "    soup = BeautifulSoup(html, 'lxml')\n",
    "    nasa_title = soup.find('div', class_='content_title').text\n",
    "    #set delay to allow time for page to load\n",
    "    time.sleep(20)\n",
    "    nasa_paragraph = soup.find('div', class_='article_teaser_body').text\n",
    "       \n",
    "    #------------ scrape jpl mars news site for featured image ------------------\n",
    "        \n",
    "    #set url of site\n",
    "    url = 'https://www.jpl.nasa.gov/spaceimages/?search=&category=Mars'\n",
    "    browser.visit(url)\n",
    "    \n",
    "    #click on full image button\n",
    "    browser.click_link_by_partial_text('FULL')\n",
    "    #set delay to allow time for page to load\n",
    "    time.sleep(10)\n",
    "    #click on \"more info\" button on next pag3\n",
    "    browser.click_link_by_partial_text('more info')\n",
    "    #set delay to allow time for page to load\n",
    "    time.sleep(10)\n",
    "    \n",
    "    #scrape image data information with beautiful soup and store in featured_image_url\n",
    "    html = browser.html\n",
    "    soup = BeautifulSoup(html, 'lxml')\n",
    "    result = soup.find('figure')  \n",
    "    result = soup.find('figure').find('img')['src'] \n",
    "    featured_image_url = f'https://www.jpl.nasa.gov{result}'\n",
    "    \n",
    "    #------------ scrape mars weather from twitter  ------------------\n",
    "    \n",
    "    #set twitter url\n",
    "    url = 'https://twitter.com/marswxreport?lang=en'\n",
    "    browser.visit(url)\n",
    "\n",
    "    time.sleep(10)\n",
    "    html = browser.html\n",
    "    soup = BeautifulSoup(html, 'lxml')\n",
    "    #set delay so page can load before scraping\n",
    "    time.sleep(20)\n",
    "    tw_weather = soup.find('div', class_=\"css-901oao r-hkyrab r-1qd0xha r-a023e6 r-16dba41 r-ad9z0x r-bcqeeo r-bnwqim r-qvutc0\").find('span').text\n",
    "\n",
    "   \n",
    "    #---------------- scrape space-facts.com for table content ------------\n",
    "\n",
    "    #set url of site\n",
    "    space_fact_url = 'https://space-facts.com/mars/'\n",
    "\n",
    "    #set delay to allow time for page to load\n",
    "    time.sleep(10)\n",
    "\n",
    "    #read html tables with pandas\n",
    "    tables = pd.read_html(space_fact_url)\n",
    "    facts_table=tables[0].to_html()\n",
    "\n",
    "    #------------------ 4 hemisphere images ------------------\n",
    "    \n",
    "    hemisphere_image_urls=[\n",
    "    {\"title\":\"Cerberus Hemisphere\", \"img_url\":\"https://astrogeology.usgs.gov/cache/images/cfa62af2557222a02478f1fcd781d445_cerberus_enhanced.tif_full.jpg\"},\n",
    "    {\"title\":\"Schiaparelli Hemisphere\", \"img_url\":\"https://astrogeology.usgs.gov/cache/images/3cdd1cbf5e0813bba925c9030d13b62e_schiaparelli_enhanced.tif_full.jpg\"},\n",
    "    {\"title\":\"Syrtis Major Hemisphere\", \"img_url\":\"https://astrogeology.usgs.gov/cache/images/ae209b4e408bb6c3e67b6af38168cf28_syrtis_major_enhanced.tif_full.jpg\"},\n",
    "    {\"title\":\"Valles Marineris Hemisphere\", \"img_url\":\"https://astrogeology.usgs.gov/cache/images/7cf2da4bf549ed01c17f206327be4db7_valles_marineris_enhanced.tif_full.jpg\"}]\n",
    "    \n",
    "    #---------------- create dictionary of scraped content ------------\n",
    "    agg_dictionary = {\"nasa_title\": nasa_title,\n",
    "                        \"nasa_paragraph\": nasa_paragraph,\n",
    "                        \"featured_image_url\": featured_image_url,\n",
    "                        \"weather\": tw_weather,\n",
    "                        \"facts_table\":  facts_table,\n",
    "                        \"hemisphere_images\": hemisphere_image_urls}\n",
    "\n",
    "\n",
    "    return(agg_dictionary);\n"
   ]
  },
  {
   "cell_type": "code",
   "execution_count": 34,
   "metadata": {},
   "outputs": [
    {
     "name": "stdout",
     "output_type": "stream",
     "text": [
      "{'facts_table': '<table border=\"1\" class=\"dataframe\">\\n'\n",
      "                '  <thead>\\n'\n",
      "                '    <tr style=\"text-align: right;\">\\n'\n",
      "                '      <th></th>\\n'\n",
      "                '      <th>0</th>\\n'\n",
      "                '      <th>1</th>\\n'\n",
      "                '    </tr>\\n'\n",
      "                '  </thead>\\n'\n",
      "                '  <tbody>\\n'\n",
      "                '    <tr>\\n'\n",
      "                '      <th>0</th>\\n'\n",
      "                '      <td>Equatorial Diameter:</td>\\n'\n",
      "                '      <td>6,792 km</td>\\n'\n",
      "                '    </tr>\\n'\n",
      "                '    <tr>\\n'\n",
      "                '      <th>1</th>\\n'\n",
      "                '      <td>Polar Diameter:</td>\\n'\n",
      "                '      <td>6,752 km</td>\\n'\n",
      "                '    </tr>\\n'\n",
      "                '    <tr>\\n'\n",
      "                '      <th>2</th>\\n'\n",
      "                '      <td>Mass:</td>\\n'\n",
      "                '      <td>6.39 × 10^23 kg (0.11 Earths)</td>\\n'\n",
      "                '    </tr>\\n'\n",
      "                '    <tr>\\n'\n",
      "                '      <th>3</th>\\n'\n",
      "                '      <td>Moons:</td>\\n'\n",
      "                '      <td>2 (Phobos &amp; Deimos)</td>\\n'\n",
      "                '    </tr>\\n'\n",
      "                '    <tr>\\n'\n",
      "                '      <th>4</th>\\n'\n",
      "                '      <td>Orbit Distance:</td>\\n'\n",
      "                '      <td>227,943,824 km (1.38 AU)</td>\\n'\n",
      "                '    </tr>\\n'\n",
      "                '    <tr>\\n'\n",
      "                '      <th>5</th>\\n'\n",
      "                '      <td>Orbit Period:</td>\\n'\n",
      "                '      <td>687 days (1.9 years)</td>\\n'\n",
      "                '    </tr>\\n'\n",
      "                '    <tr>\\n'\n",
      "                '      <th>6</th>\\n'\n",
      "                '      <td>Surface Temperature:</td>\\n'\n",
      "                '      <td>-87 to -5 °C</td>\\n'\n",
      "                '    </tr>\\n'\n",
      "                '    <tr>\\n'\n",
      "                '      <th>7</th>\\n'\n",
      "                '      <td>First Record:</td>\\n'\n",
      "                '      <td>2nd millennium BC</td>\\n'\n",
      "                '    </tr>\\n'\n",
      "                '    <tr>\\n'\n",
      "                '      <th>8</th>\\n'\n",
      "                '      <td>Recorded By:</td>\\n'\n",
      "                '      <td>Egyptian astronomers</td>\\n'\n",
      "                '    </tr>\\n'\n",
      "                '  </tbody>\\n'\n",
      "                '</table>',\n",
      " 'featured_image_url': 'https://www.jpl.nasa.gov/spaceimages/images/largesize/PIA19980_hires.jpg',\n",
      " 'hemisphere_images': [{'img_url': 'https://astrogeology.usgs.gov/cache/images/cfa62af2557222a02478f1fcd781d445_cerberus_enhanced.tif_full.jpg',\n",
      "                        'title': 'Cerberus Hemisphere'},\n",
      "                       {'img_url': 'https://astrogeology.usgs.gov/cache/images/3cdd1cbf5e0813bba925c9030d13b62e_schiaparelli_enhanced.tif_full.jpg',\n",
      "                        'title': 'Schiaparelli Hemisphere'},\n",
      "                       {'img_url': 'https://astrogeology.usgs.gov/cache/images/ae209b4e408bb6c3e67b6af38168cf28_syrtis_major_enhanced.tif_full.jpg',\n",
      "                        'title': 'Syrtis Major Hemisphere'},\n",
      "                       {'img_url': 'https://astrogeology.usgs.gov/cache/images/7cf2da4bf549ed01c17f206327be4db7_valles_marineris_enhanced.tif_full.jpg',\n",
      "                        'title': 'Valles Marineris Hemisphere'}],\n",
      " 'nasa_paragraph': 'Engineers have a plan for pushing down on the heat probe, '\n",
      "                   'which has been stuck at the Martian surface for a year.',\n",
      " 'nasa_title': \"Mars InSight Lander to Push on Top of the 'Mole'\",\n",
      " 'weather': 'InSight sol 440 (2020-02-21) low -95.2ºC (-139.3ºF) high -13.0ºC '\n",
      "            '(8.6ºF)\\n'\n",
      "            'winds from the W at 6.0 m/s (13.4 mph) gusting to 23.7 m/s (52.9 '\n",
      "            'mph)\\n'\n",
      "            'pressure at 6.30 hPa'}\n"
     ]
    }
   ],
   "source": [
    "master_dictionary = scrape()\n",
    "pprint(master_dictionary)"
   ]
  },
  {
   "cell_type": "code",
   "execution_count": null,
   "metadata": {},
   "outputs": [],
   "source": []
  }
 ],
 "metadata": {
  "kernelspec": {
   "display_name": "Python 3",
   "language": "python",
   "name": "python3"
  },
  "language_info": {
   "codemirror_mode": {
    "name": "ipython",
    "version": 3
   },
   "file_extension": ".py",
   "mimetype": "text/x-python",
   "name": "python",
   "nbconvert_exporter": "python",
   "pygments_lexer": "ipython3",
   "version": "3.7.5"
  }
 },
 "nbformat": 4,
 "nbformat_minor": 2
}
