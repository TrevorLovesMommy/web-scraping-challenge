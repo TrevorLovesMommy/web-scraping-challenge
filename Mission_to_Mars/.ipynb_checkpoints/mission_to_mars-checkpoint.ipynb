{
 "cells": [
  {
   "cell_type": "code",
   "execution_count": 1,
   "metadata": {},
   "outputs": [],
   "source": [
    "from splinter import Browser\n",
    "from bs4 import BeautifulSoup\n",
    "import pymongo\n",
    "import pandas as pd\n",
    "import time"
   ]
  },
  {
   "cell_type": "code",
   "execution_count": 2,
   "metadata": {},
   "outputs": [],
   "source": [
    "executable_path = {'executable_path': 'chromedriver.exe'}\n",
    "browser = Browser('chrome', **executable_path, headless=False)"
   ]
  },
  {
   "cell_type": "markdown",
   "metadata": {},
   "source": [
    "## Scrape NASA Mars News Site "
   ]
  },
  {
   "cell_type": "code",
   "execution_count": 5,
   "metadata": {},
   "outputs": [],
   "source": [
    "#set URL\n",
    "url = 'https://mars.nasa.gov/news/?page=0&per_page=40&order=publish_date+desc%2Ccreated_at+desc&search=&category=19%2C165%2C184%2C204&blank_scope=Latest'\n",
    "browser.visit(url)"
   ]
  },
  {
   "cell_type": "code",
   "execution_count": 6,
   "metadata": {},
   "outputs": [
    {
     "name": "stdout",
     "output_type": "stream",
     "text": [
      "Mars InSight Lander to Push on Top of the 'Mole'\n",
      "Engineers have a plan for pushing down on the heat probe, which has been stuck at the Martian surface for a year.\n"
     ]
    }
   ],
   "source": [
    "#scrape html with beautiful soup\n",
    "html = browser.html\n",
    "soup = BeautifulSoup(html, 'lxml')\n",
    "\n",
    "nasa_title = soup.find('div', class_='content_title').text\n",
    "\n",
    "#set 10 sec delay to finish scraping above content\n",
    "time.sleep(10)\n",
    "\n",
    "nasa_paragraph = soup.find('div', class_='article_teaser_body').text\n",
    "\n",
    "print(nasa_title)\n",
    "print(nasa_paragraph)"
   ]
  },
  {
   "cell_type": "markdown",
   "metadata": {},
   "source": [
    "## Scrape JPL Mars site"
   ]
  },
  {
   "cell_type": "code",
   "execution_count": 7,
   "metadata": {},
   "outputs": [],
   "source": [
    "#set url of site\n",
    "url = 'https://www.jpl.nasa.gov/spaceimages/?search=&category=Mars'\n",
    "browser.visit(url)"
   ]
  },
  {
   "cell_type": "code",
   "execution_count": 8,
   "metadata": {},
   "outputs": [
    {
     "name": "stderr",
     "output_type": "stream",
     "text": [
      "C:\\Users\\melis\\Anaconda3\\envs\\PythonData\\lib\\site-packages\\splinter\\driver\\webdriver\\__init__.py:528: FutureWarning: browser.find_link_by_partial_text is deprecated. Use browser.links.find_by_partial_text instead.\n",
      "  FutureWarning,\n"
     ]
    }
   ],
   "source": [
    "#click on full image button\n",
    "#browser.links.find_by_partial_text('FULL')\n",
    "browser.click_link_by_partial_text('FULL')"
   ]
  },
  {
   "cell_type": "code",
   "execution_count": 9,
   "metadata": {},
   "outputs": [],
   "source": [
    "#click on \"more info\" button on next page\n",
    "#set 10 sec delay to allow time for clikcing on the FULL button above\n",
    "time.sleep(10)\n",
    "browser.click_link_by_partial_text('more info')\n",
    "time.sleep(10)"
   ]
  },
  {
   "cell_type": "code",
   "execution_count": 10,
   "metadata": {},
   "outputs": [
    {
     "name": "stdout",
     "output_type": "stream",
     "text": [
      "<figure class=\"lede\">\n",
      "<a href=\"/spaceimages/images/largesize/PIA16153_hires.jpg\"><img alt=\"This map shows the route driven by NASA's Mars rover Curiosity through the 43rd Martian day, or sol, of the rover's mission on Mars (Sept. 19, 2012). The route starts where the rover touched down, a site subsequently named Bradbury Landing.\" class=\"main_image\" src=\"/spaceimages/images/largesize/PIA16153_hires.jpg\" title=\"This map shows the route driven by NASA's Mars rover Curiosity through the 43rd Martian day, or sol, of the rover's mission on Mars (Sept. 19, 2012). The route starts where the rover touched down, a site subsequently named Bradbury Landing.\"/></a>\n",
      "</figure>\n",
      "https://www.jpl.nasa.gov/spaceimages/images/largesize/PIA16153_hires.jpg\n"
     ]
    }
   ],
   "source": [
    "#scrape image data information with beautiful soup and store in featured_image_url\n",
    "html = browser.html\n",
    "soup = BeautifulSoup(html, 'lxml')\n",
    "\n",
    "result = soup.find('figure')  \n",
    "print(result)\n",
    "result = soup.find('figure').find('img')['src'] \n",
    "featured_image_url = f'https://www.jpl.nasa.gov{result}'\n",
    "print(featured_image_url)"
   ]
  },
  {
   "cell_type": "markdown",
   "metadata": {},
   "source": [
    "## Mars Weather"
   ]
  },
  {
   "cell_type": "code",
   "execution_count": null,
   "metadata": {},
   "outputs": [],
   "source": [
    "#set twitter url\n",
    "url = 'https://twitter.com/marswxreport?lang=en'\n",
    "browser.visit(url)"
   ]
  },
  {
   "cell_type": "code",
   "execution_count": null,
   "metadata": {},
   "outputs": [],
   "source": [
    "html = browser.html\n",
    "soup = BeautifulSoup(html, 'lxml')\n",
    "#set 10 sec delay so page can load before scraping\n",
    "time.sleep(10)\n",
    "tw_weather = soup.find('div', class_=\"css-901oao r-hkyrab r-1qd0xha r-a023e6 r-16dba41 r-ad9z0x r-bcqeeo r-bnwqim r-qvutc0\").find('span').text\n",
    "print(tw_weather)\n"
   ]
  },
  {
   "cell_type": "markdown",
   "metadata": {},
   "source": [
    "## Mars Facts"
   ]
  },
  {
   "cell_type": "code",
   "execution_count": null,
   "metadata": {},
   "outputs": [],
   "source": [
    "#scrape table and convert into html string\n",
    "#set url of site\n",
    "space_fact_url = 'https://space-facts.com/mars/'\n",
    "\n",
    "time.sleep(10)\n",
    "\n",
    "#read html tables with pandas\n",
    "tables = pd.read_html(space_fact_url)\n",
    "print(tables[0])\n",
    "\n",
    "html_table=tables[0].to_html()\n",
    "print(html_table)"
   ]
  },
  {
   "cell_type": "markdown",
   "metadata": {},
   "source": [
    "## Mars Hemispheres"
   ]
  },
  {
   "cell_type": "code",
   "execution_count": null,
   "metadata": {},
   "outputs": [],
   "source": [
    "hemisphere_image_urls=[\n",
    "    {\"title\":\"Cerberus Hemisphere\", \"img_url\":\"https://astrogeology.usgs.gov/cache/images/cfa62af2557222a02478f1fcd781d445_cerberus_enhanced.tif_full.jpg\"},\n",
    "    {\"title\":\"Schiaparelli Hemisphere\", \"img_url\":\"https://astrogeology.usgs.gov/cache/images/3cdd1cbf5e0813bba925c9030d13b62e_schiaparelli_enhanced.tif_full.jpg\"},\n",
    "    {\"title\":\"Syrtis Major Hemisphere\", \"img_url\":\"https://astrogeology.usgs.gov/cache/images/ae209b4e408bb6c3e67b6af38168cf28_syrtis_major_enhanced.tif_full.jpg\"},\n",
    "    {\"title\":\"Valles Marineris Hemisphere\", \"img_url\":\"https://astrogeology.usgs.gov/cache/images/7cf2da4bf549ed01c17f206327be4db7_valles_marineris_enhanced.tif_full.jpg\"}\n",
    "]\n"
   ]
  },
  {
   "cell_type": "markdown",
   "metadata": {},
   "source": [
    "## Create function to scrape all websites"
   ]
  },
  {
   "cell_type": "code",
   "execution_count": null,
   "metadata": {},
   "outputs": [],
   "source": [
    "def scrape_sites():\n",
    "    \n",
    "    #Scrape 4 sites and aggregate all data into one dictionary\n",
    "    \n",
    "    #declare dictionary to append to:\n",
    "    master_dictionary={}\n",
    "    \n",
    "    #------------scrape nasa mars news site ------------------\n",
    "    \n",
    "    #set URL\n",
    "    url = 'https://mars.nasa.gov/news/?page=0&per_page=40&order=publish_date+desc%2Ccreated_at+desc&search=&category=19%2C165%2C184%2C204&blank_scope=Latest'\n",
    "    browser.visit(url)\n",
    "    \n",
    "    #scrape html with beautiful soup\n",
    "    html = browser.html\n",
    "    soup = BeautifulSoup(html, 'lxml')\n",
    "    nasa_title = soup.find('div', class_='content_title').text\n",
    "    #set 10 sec delay to finish scraping above content\n",
    "    time.sleep(15)\n",
    "    nasa_paragraph = soup.find('div', class_='article_teaser_body').text\n",
    "       \n",
    "    #------------ scrape jpl mars news site for featured image ------------------\n",
    "        \n",
    "    #set url of site\n",
    "    url = 'https://www.jpl.nasa.gov/spaceimages/?search=&category=Mars'\n",
    "    browser.visit(url)\n",
    "    \n",
    "    #click on full image button\n",
    "    browser.click_link_by_partial_text('FULL')\n",
    "    #set 10 sec delay to allow time for clikcing on the FULL button above\n",
    "    time.sleep(10)\n",
    "    #click on \"more info\" button on next page\n",
    "    browser.click_link_by_partial_text('more info')\n",
    "    \n",
    "    #scrape image data information with beautiful soup and store in featured_image_url\n",
    "    html = browser.html\n",
    "    soup = BeautifulSoup(html, 'lxml')\n",
    "    result = soup.find('figure')  \n",
    "    result = soup.find('figure').find('img')['src'] \n",
    "    featured_image_url = f'https://www.jpl.nasa.gov{result}'\n",
    "    \n",
    "    #------------ scrape mars weather from twitter  ------------------\n",
    "    \n",
    "    #set twitter url\n",
    "    url = 'https://twitter.com/marswxreport?lang=en'\n",
    "    browser.visit(url)\n",
    "    \n",
    "    html = browser.html\n",
    "    soup = BeautifulSoup(html, 'lxml')\n",
    "    time.sleep(10)\n",
    "    tw_weather = soup.find('div', class_=\"css-901oao r-hkyrab r-1qd0xha r-a023e6 r-16dba41 r-ad9z0x r-bcqeeo r-bnwqim r-qvutc0\").find('span').text\n",
    "\n",
    "    \n",
    "    #---------------- create dictionary of scraped content ------------\n",
    "    master_dictionary = {\"nasa_title\": nasa_title,\n",
    "                        \"nasa_paragraph\": nasa_paragraph,\n",
    "                        \"featured_image_url\": featured_image_url,\n",
    "                        \"weather\": tw_weather}\n",
    "\n",
    "    \n",
    "\n",
    "    \n",
    "    \n",
    "    return(master_dictionary);\n"
   ]
  },
  {
   "cell_type": "code",
   "execution_count": null,
   "metadata": {},
   "outputs": [],
   "source": [
    "x = scrape_sites()\n",
    "print(x)"
   ]
  },
  {
   "cell_type": "code",
   "execution_count": null,
   "metadata": {},
   "outputs": [],
   "source": [
    "print(x)"
   ]
  },
  {
   "cell_type": "code",
   "execution_count": null,
   "metadata": {},
   "outputs": [],
   "source": []
  }
 ],
 "metadata": {
  "kernelspec": {
   "display_name": "Python 3",
   "language": "python",
   "name": "python3"
  },
  "language_info": {
   "codemirror_mode": {
    "name": "ipython",
    "version": 3
   },
   "file_extension": ".py",
   "mimetype": "text/x-python",
   "name": "python",
   "nbconvert_exporter": "python",
   "pygments_lexer": "ipython3",
   "version": "3.7.5"
  }
 },
 "nbformat": 4,
 "nbformat_minor": 2
}
