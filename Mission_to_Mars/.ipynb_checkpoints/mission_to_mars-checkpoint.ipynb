{
 "cells": [
  {
   "cell_type": "code",
   "execution_count": null,
   "metadata": {},
   "outputs": [],
   "source": [
    "from splinter import Browser\n",
    "from bs4 import BeautifulSoup\n",
    "import pymongo\n",
    "import pandas as pd\n",
    "import time\n",
    "from pprint import pprint"
   ]
  },
  {
   "cell_type": "code",
   "execution_count": null,
   "metadata": {},
   "outputs": [],
   "source": [
    "executable_path = {'executable_path': 'chromedriver.exe'}\n",
    "browser = Browser('chrome', **executable_path, headless=False)"
   ]
  },
  {
   "cell_type": "markdown",
   "metadata": {},
   "source": [
    "## Scrape NASA Mars News Site "
   ]
  },
  {
   "cell_type": "code",
   "execution_count": 5,
   "metadata": {},
   "outputs": [],
   "source": [
    "#set URL\n",
    "url = 'https://mars.nasa.gov/news/?page=0&per_page=40&order=publish_date+desc%2Ccreated_at+desc&search=&category=19%2C165%2C184%2C204&blank_scope=Latest'\n",
    "browser.visit(url)"
   ]
  },
  {
   "cell_type": "code",
   "execution_count": 7,
   "metadata": {},
   "outputs": [
    {
     "name": "stdout",
     "output_type": "stream",
     "text": [
      "Mars InSight Lander to Push on Top of the 'Mole'\n",
      "Engineers have a plan for pushing down on the heat probe, which has been stuck at the Martian surface for a year.\n"
     ]
    }
   ],
   "source": [
    "#scrape html with beautiful soup\n",
    "html = browser.html\n",
    "soup = BeautifulSoup(html, 'lxml')\n",
    "\n",
    "nasa_title = soup.find('div', class_='content_title').text\n",
    "\n",
    "#set 10 sec delay to finish scraping above content\n",
    "time.sleep(10)\n",
    "\n",
    "nasa_paragraph = soup.find('div', class_='article_teaser_body').text\n",
    "\n",
    "print(nasa_title)\n",
    "print(nasa_paragraph)"
   ]
  },
  {
   "cell_type": "markdown",
   "metadata": {},
   "source": [
    "## Scrape JPL Mars site"
   ]
  },
  {
   "cell_type": "code",
   "execution_count": 8,
   "metadata": {},
   "outputs": [],
   "source": [
    "#set url of site\n",
    "url = 'https://www.jpl.nasa.gov/spaceimages/?search=&category=Mars'\n",
    "browser.visit(url)"
   ]
  },
  {
   "cell_type": "code",
   "execution_count": 9,
   "metadata": {},
   "outputs": [
    {
     "name": "stderr",
     "output_type": "stream",
     "text": [
      "C:\\Users\\melis\\Anaconda3\\envs\\PythonData\\lib\\site-packages\\splinter\\driver\\webdriver\\__init__.py:528: FutureWarning: browser.find_link_by_partial_text is deprecated. Use browser.links.find_by_partial_text instead.\n",
      "  FutureWarning,\n"
     ]
    }
   ],
   "source": [
    "#click on full image button\n",
    "#browser.links.find_by_partial_text('FULL')\n",
    "browser.click_link_by_partial_text('FULL')"
   ]
  },
  {
   "cell_type": "code",
   "execution_count": 10,
   "metadata": {},
   "outputs": [],
   "source": [
    "#click on \"more info\" button on next page\n",
    "#set 10 sec delay to allow time for clikcing on the FULL button above\n",
    "time.sleep(10)\n",
    "browser.click_link_by_partial_text('more info')\n",
    "time.sleep(10)"
   ]
  },
  {
   "cell_type": "code",
   "execution_count": 11,
   "metadata": {
    "scrolled": true
   },
   "outputs": [
    {
     "name": "stdout",
     "output_type": "stream",
     "text": [
      "<figure class=\"lede\">\n",
      "<a href=\"/spaceimages/images/largesize/PIA12831_hires.jpg\"><img alt=\"This infrared image taken by NASA's Wide-field Infrared Survey Explorer shows a star-forming cloud teeming with gas, dust and massive newborn stars.\" class=\"main_image\" src=\"/spaceimages/images/largesize/PIA12831_hires.jpg\" title=\"This infrared image taken by NASA's Wide-field Infrared Survey Explorer shows a star-forming cloud teeming with gas, dust and massive newborn stars.\"/></a>\n",
      "</figure>\n",
      "https://www.jpl.nasa.gov/spaceimages/images/largesize/PIA12831_hires.jpg\n"
     ]
    }
   ],
   "source": [
    "#scrape image data information with beautiful soup and store in featured_image_url\n",
    "html = browser.html\n",
    "soup = BeautifulSoup(html, 'lxml')\n",
    "\n",
    "result = soup.find('figure')  \n",
    "print(result)\n",
    "result = soup.find('figure').find('img')['src'] \n",
    "featured_image_url = f'https://www.jpl.nasa.gov{result}'\n",
    "print(featured_image_url)"
   ]
  },
  {
   "cell_type": "markdown",
   "metadata": {},
   "source": [
    "## Mars Weather"
   ]
  },
  {
   "cell_type": "code",
   "execution_count": 12,
   "metadata": {},
   "outputs": [],
   "source": [
    "#set twitter url\n",
    "url = 'https://twitter.com/marswxreport?lang=en'\n",
    "browser.visit(url)"
   ]
  },
  {
   "cell_type": "code",
   "execution_count": 13,
   "metadata": {},
   "outputs": [
    {
     "name": "stdout",
     "output_type": "stream",
     "text": [
      "InSight sol 441 (2020-02-22) low -95.1ºC (-139.1ºF) high -13.5ºC (7.7ºF)\n",
      "winds from the SSE at 6.2 m/s (13.8 mph) gusting to 21.0 m/s (47.0 mph)\n",
      "pressure at 6.30 hPa\n"
     ]
    }
   ],
   "source": [
    "time.sleep(10)\n",
    "html = browser.html\n",
    "soup = BeautifulSoup(html, 'lxml')\n",
    "#set delay so page can load before scraping\n",
    "time.sleep(20)\n",
    "tw_weather = soup.find('div', class_=\"css-901oao r-hkyrab r-1qd0xha r-a023e6 r-16dba41 r-ad9z0x r-bcqeeo r-bnwqim r-qvutc0\").find('span').text\n",
    "print(tw_weather)\n"
   ]
  },
  {
   "cell_type": "markdown",
   "metadata": {},
   "source": [
    "## Mars Facts"
   ]
  },
  {
   "cell_type": "code",
   "execution_count": 28,
   "metadata": {},
   "outputs": [
    {
     "name": "stdout",
     "output_type": "stream",
     "text": [
      "                                              Value\n",
      "Description                                        \n",
      "Equatorial Diameter:                       6,792 km\n",
      "Polar Diameter:                            6,752 km\n",
      "Mass:                 6.39 × 10^23 kg (0.11 Earths)\n",
      "Moons:                          2 (Phobos & Deimos)\n",
      "Orbit Distance:            227,943,824 km (1.38 AU)\n",
      "Orbit Period:                  687 days (1.9 years)\n",
      "Surface Temperature:                   -87 to -5 °C\n",
      "First Record:                     2nd millennium BC\n",
      "Recorded By:                   Egyptian astronomers\n"
     ]
    }
   ],
   "source": [
    "#scrape table and convert into html string\n",
    "#set url of site\n",
    "space_fact_url = 'https://space-facts.com/mars/'\n",
    "\n",
    "time.sleep(10)\n",
    "\n",
    "#read html tables with pandas\n",
    "tables = pd.read_html(space_fact_url)\n",
    "facts_table = (tables[0])\n",
    "facts_table.columns=[\"Description\", \"Value\"]\n",
    "facts_table = facts_table.set_index(\"Description\")\n",
    "\n",
    "facts_table=tables[0].to_html().replace('\\n','')\n",
    "print(facts_table)"
   ]
  },
  {
   "cell_type": "markdown",
   "metadata": {},
   "source": [
    "## Mars Hemispheres"
   ]
  },
  {
   "cell_type": "code",
   "execution_count": 17,
   "metadata": {},
   "outputs": [],
   "source": [
    "hemisphere_image_urls=[\n",
    "    {\"title\":\"Cerberus Hemisphere\", \"img_url\":\"https://astrogeology.usgs.gov/cache/images/cfa62af2557222a02478f1fcd781d445_cerberus_enhanced.tif_full.jpg\"},\n",
    "    {\"title\":\"Schiaparelli Hemisphere\", \"img_url\":\"https://astrogeology.usgs.gov/cache/images/3cdd1cbf5e0813bba925c9030d13b62e_schiaparelli_enhanced.tif_full.jpg\"},\n",
    "    {\"title\":\"Syrtis Major Hemisphere\", \"img_url\":\"https://astrogeology.usgs.gov/cache/images/ae209b4e408bb6c3e67b6af38168cf28_syrtis_major_enhanced.tif_full.jpg\"},\n",
    "    {\"title\":\"Valles Marineris Hemisphere\", \"img_url\":\"https://astrogeology.usgs.gov/cache/images/7cf2da4bf549ed01c17f206327be4db7_valles_marineris_enhanced.tif_full.jpg\"}\n",
    "]\n"
   ]
  },
  {
   "cell_type": "markdown",
   "metadata": {},
   "source": [
    "## Create function to initialize browser for scraping"
   ]
  },
  {
   "cell_type": "code",
   "execution_count": 18,
   "metadata": {},
   "outputs": [],
   "source": [
    "def init_browser():\n",
    "    executable_path = {'executable_path': 'chromedriver.exe'}\n",
    "    return Browser('chrome', **executable_path, headless=False)\n"
   ]
  },
  {
   "cell_type": "markdown",
   "metadata": {},
   "source": [
    "## Create function to scrape all websites"
   ]
  },
  {
   "cell_type": "code",
   "execution_count": 23,
   "metadata": {},
   "outputs": [],
   "source": [
    "def scrape():\n",
    "    \n",
    "    #Scrape 4 sites and aggregate all data into one dictionary\n",
    "    \n",
    "    #set browser for scraping\n",
    "    browser = init_browser()\n",
    "    \n",
    "    #declare dictionary to append to:\n",
    "    master_dictionary={}\n",
    "    \n",
    "    #------------scrape nasa mars news site ------------------\n",
    "    \n",
    "    #set URL\n",
    "    url = 'https://mars.nasa.gov/news/?page=0&per_page=40&order=publish_date+desc%2Ccreated_at+desc&search=&category=19%2C165%2C184%2C204&blank_scope=Latest'\n",
    "    browser.visit(url)\n",
    "    \n",
    "    #scrape html with beautiful soup\n",
    "    html = browser.html\n",
    "    soup = BeautifulSoup(html, 'lxml')\n",
    "    nasa_title = soup.find('div', class_='content_title').text\n",
    "    #set delay to allow time for page to load\n",
    "    time.sleep(20)\n",
    "    nasa_paragraph = soup.find('div', class_='article_teaser_body').text\n",
    "       \n",
    "    #------------ scrape jpl mars news site for featured image ------------------\n",
    "        \n",
    "    #set url of site\n",
    "    url = 'https://www.jpl.nasa.gov/spaceimages/?search=&category=Mars'\n",
    "    browser.visit(url)\n",
    "    \n",
    "    #click on full image button\n",
    "    browser.click_link_by_partial_text('FULL')\n",
    "    #set delay to allow time for page to load\n",
    "    time.sleep(10)\n",
    "    #click on \"more info\" button on next pag3\n",
    "    browser.click_link_by_partial_text('more info')\n",
    "    #set delay to allow time for page to load\n",
    "    time.sleep(10)\n",
    "    \n",
    "    #scrape image data information with beautiful soup and store in featured_image_url\n",
    "    html = browser.html\n",
    "    soup = BeautifulSoup(html, 'lxml')\n",
    "    result = soup.find('figure')  \n",
    "    result = soup.find('figure').find('img')['src'] \n",
    "    featured_image_url = f'https://www.jpl.nasa.gov{result}'\n",
    "    \n",
    "    #------------ scrape mars weather from twitter  ------------------\n",
    "    \n",
    "    #set twitter url\n",
    "    url = 'https://twitter.com/marswxreport?lang=en'\n",
    "    browser.visit(url)\n",
    "\n",
    "    time.sleep(10)\n",
    "    html = browser.html\n",
    "    soup = BeautifulSoup(html, 'lxml')\n",
    "    #set delay so page can load before scraping\n",
    "    time.sleep(20)\n",
    "    tw_weather = soup.find('div', class_=\"css-901oao r-hkyrab r-1qd0xha r-a023e6 r-16dba41 r-ad9z0x r-bcqeeo r-bnwqim r-qvutc0\").find('span').text\n",
    "\n",
    "   \n",
    "    #---------------- scrape space-facts.com for table content ------------\n",
    "\n",
    "    #set url of site\n",
    "    space_fact_url = 'https://space-facts.com/mars/'\n",
    "\n",
    "    #set delay to allow time for page to load\n",
    "    time.sleep(10)\n",
    "\n",
    "    #read html tables with pandas\n",
    "    tables = pd.read_html(space_fact_url)\n",
    "    facts_table=tables[0].to_html().replace('\\n','')\n",
    "\n",
    "    \n",
    "\n",
    "    #------------------ 4 hemisphere images ------------------\n",
    "    \n",
    "    hemisphere_image_urls=[\n",
    "    {\"title\":\"Cerberus Hemisphere\", \"img_url\":\"https://astrogeology.usgs.gov/cache/images/cfa62af2557222a02478f1fcd781d445_cerberus_enhanced.tif_full.jpg\"},\n",
    "    {\"title\":\"Schiaparelli Hemisphere\", \"img_url\":\"https://astrogeology.usgs.gov/cache/images/3cdd1cbf5e0813bba925c9030d13b62e_schiaparelli_enhanced.tif_full.jpg\"},\n",
    "    {\"title\":\"Syrtis Major Hemisphere\", \"img_url\":\"https://astrogeology.usgs.gov/cache/images/ae209b4e408bb6c3e67b6af38168cf28_syrtis_major_enhanced.tif_full.jpg\"},\n",
    "    {\"title\":\"Valles Marineris Hemisphere\", \"img_url\":\"https://astrogeology.usgs.gov/cache/images/7cf2da4bf549ed01c17f206327be4db7_valles_marineris_enhanced.tif_full.jpg\"}]\n",
    "    \n",
    "    #---------------- create dictionary of scraped content ------------\n",
    "    agg_dictionary = {\"nasa_title\": nasa_title,\n",
    "                        \"nasa_paragraph\": nasa_paragraph,\n",
    "                        \"featured_image_url\": featured_image_url,\n",
    "                        \"weather\": tw_weather,\n",
    "                        \"facts_table\":  facts_table,\n",
    "                        \"hemisphere_images\": hemisphere_image_urls}\n",
    "\n",
    "\n",
    "    return(agg_dictionary);\n"
   ]
  },
  {
   "cell_type": "code",
   "execution_count": 24,
   "metadata": {},
   "outputs": [
    {
     "name": "stdout",
     "output_type": "stream",
     "text": [
      "{'facts_table': '<table border=\"1\" class=\"dataframe\">  <thead>    <tr '\n",
      "                'style=\"text-align: right;\">      <th></th>      '\n",
      "                '<th>0</th>      <th>1</th>    </tr>  </thead>  <tbody>    '\n",
      "                '<tr>      <th>0</th>      <td>Equatorial Diameter:</td>      '\n",
      "                '<td>6,792 km</td>    </tr>    <tr>      <th>1</th>      '\n",
      "                '<td>Polar Diameter:</td>      <td>6,752 km</td>    </tr>    '\n",
      "                '<tr>      <th>2</th>      <td>Mass:</td>      <td>6.39 × '\n",
      "                '10^23 kg (0.11 Earths)</td>    </tr>    <tr>      '\n",
      "                '<th>3</th>      <td>Moons:</td>      <td>2 (Phobos &amp; '\n",
      "                'Deimos)</td>    </tr>    <tr>      <th>4</th>      <td>Orbit '\n",
      "                'Distance:</td>      <td>227,943,824 km (1.38 AU)</td>    '\n",
      "                '</tr>    <tr>      <th>5</th>      <td>Orbit '\n",
      "                'Period:</td>      <td>687 days (1.9 years)</td>    </tr>    '\n",
      "                '<tr>      <th>6</th>      <td>Surface Temperature:</td>      '\n",
      "                '<td>-87 to -5 °C</td>    </tr>    <tr>      <th>7</th>      '\n",
      "                '<td>First Record:</td>      <td>2nd millennium BC</td>    '\n",
      "                '</tr>    <tr>      <th>8</th>      <td>Recorded By:</td>      '\n",
      "                '<td>Egyptian astronomers</td>    </tr>  </tbody></table>',\n",
      " 'featured_image_url': 'https://www.jpl.nasa.gov/spaceimages/images/largesize/PIA19808_hires.jpg',\n",
      " 'hemisphere_images': [{'img_url': 'https://astrogeology.usgs.gov/cache/images/cfa62af2557222a02478f1fcd781d445_cerberus_enhanced.tif_full.jpg',\n",
      "                        'title': 'Cerberus Hemisphere'},\n",
      "                       {'img_url': 'https://astrogeology.usgs.gov/cache/images/3cdd1cbf5e0813bba925c9030d13b62e_schiaparelli_enhanced.tif_full.jpg',\n",
      "                        'title': 'Schiaparelli Hemisphere'},\n",
      "                       {'img_url': 'https://astrogeology.usgs.gov/cache/images/ae209b4e408bb6c3e67b6af38168cf28_syrtis_major_enhanced.tif_full.jpg',\n",
      "                        'title': 'Syrtis Major Hemisphere'},\n",
      "                       {'img_url': 'https://astrogeology.usgs.gov/cache/images/7cf2da4bf549ed01c17f206327be4db7_valles_marineris_enhanced.tif_full.jpg',\n",
      "                        'title': 'Valles Marineris Hemisphere'}],\n",
      " 'nasa_paragraph': 'Engineers have a plan for pushing down on the heat probe, '\n",
      "                   'which has been stuck at the Martian surface for a year.',\n",
      " 'nasa_title': \"Mars InSight Lander to Push on Top of the 'Mole'\",\n",
      " 'weather': 'InSight sol 441 (2020-02-22) low -95.1ºC (-139.1ºF) high -13.5ºC '\n",
      "            '(7.7ºF)\\n'\n",
      "            'winds from the SSE at 6.2 m/s (13.8 mph) gusting to 21.0 m/s '\n",
      "            '(47.0 mph)\\n'\n",
      "            'pressure at 6.30 hPa'}\n"
     ]
    }
   ],
   "source": [
    "master_dictionary = scrape()\n",
    "pprint(master_dictionary)"
   ]
  },
  {
   "cell_type": "code",
   "execution_count": null,
   "metadata": {},
   "outputs": [],
   "source": []
  }
 ],
 "metadata": {
  "kernelspec": {
   "display_name": "Python 3",
   "language": "python",
   "name": "python3"
  }
 },
 "nbformat": 4,
 "nbformat_minor": 2
}
